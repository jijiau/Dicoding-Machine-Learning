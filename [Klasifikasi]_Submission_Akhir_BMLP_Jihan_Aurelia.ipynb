{
  "cells": [
    {
      "cell_type": "markdown",
      "metadata": {
        "id": "fKADPWcFKlj3"
      },
      "source": [
        "# **1. Import Library**"
      ]
    },
    {
      "cell_type": "markdown",
      "metadata": {
        "id": "LgA3ERnVn84N"
      },
      "source": [
        "Pada tahap ini, Anda perlu mengimpor beberapa pustaka (library) Python yang dibutuhkan untuk analisis data dan pembangunan model machine learning."
      ]
    },
    {
      "cell_type": "code",
      "execution_count": 21,
      "metadata": {
        "id": "BlmvjLY9M4Yj"
      },
      "outputs": [],
      "source": [
        "import pandas as pd\n",
        "import numpy as np\n",
        "import seaborn as sns\n",
        "import matplotlib.pyplot as plt\n",
        "from sklearn.model_selection import train_test_split\n",
        "from sklearn.preprocessing import MinMaxScaler\n",
        "from sklearn.neighbors import KNeighborsClassifier\n",
        "from sklearn.linear_model import LogisticRegression\n",
        "from sklearn.tree import DecisionTreeClassifier\n",
        "from sklearn.ensemble import RandomForestClassifier\n",
        "from sklearn.svm import SVC\n",
        "from sklearn.naive_bayes import GaussianNB\n",
        "from sklearn.metrics import confusion_matrix, accuracy_score, precision_score, recall_score, f1_score\n",
        "from sklearn.model_selection import cross_val_score\n",
        "from sklearn.model_selection import StratifiedKFold\n",
        "\n"
      ]
    },
    {
      "cell_type": "markdown",
      "metadata": {
        "id": "f3YIEnAFKrKL"
      },
      "source": [
        "# **2. Memuat Dataset dari Hasil Clustering**"
      ]
    },
    {
      "cell_type": "markdown",
      "metadata": {
        "id": "Ey3ItwTen_7E"
      },
      "source": [
        "Memuat dataset hasil clustering dari file CSV ke dalam variabel DataFrame."
      ]
    },
    {
      "cell_type": "code",
      "execution_count": 22,
      "metadata": {
        "id": "GHCGNTyrM5fS"
      },
      "outputs": [
        {
          "data": {
            "text/html": [
              "<div>\n",
              "<style scoped>\n",
              "    .dataframe tbody tr th:only-of-type {\n",
              "        vertical-align: middle;\n",
              "    }\n",
              "\n",
              "    .dataframe tbody tr th {\n",
              "        vertical-align: top;\n",
              "    }\n",
              "\n",
              "    .dataframe thead th {\n",
              "        text-align: right;\n",
              "    }\n",
              "</style>\n",
              "<table border=\"1\" class=\"dataframe\">\n",
              "  <thead>\n",
              "    <tr style=\"text-align: right;\">\n",
              "      <th></th>\n",
              "      <th>recency</th>\n",
              "      <th>variety_categories</th>\n",
              "      <th>avg_discount</th>\n",
              "      <th>monetary</th>\n",
              "      <th>frequency</th>\n",
              "      <th>total_qty</th>\n",
              "      <th>avg_qty</th>\n",
              "      <th>cluster</th>\n",
              "    </tr>\n",
              "  </thead>\n",
              "  <tbody>\n",
              "    <tr>\n",
              "      <th>0</th>\n",
              "      <td>1</td>\n",
              "      <td>4</td>\n",
              "      <td>0.000000</td>\n",
              "      <td>38904.13</td>\n",
              "      <td>305</td>\n",
              "      <td>7508</td>\n",
              "      <td>24.616393</td>\n",
              "      <td>0</td>\n",
              "    </tr>\n",
              "    <tr>\n",
              "      <th>1</th>\n",
              "      <td>2</td>\n",
              "      <td>4</td>\n",
              "      <td>0.000000</td>\n",
              "      <td>40288.83</td>\n",
              "      <td>296</td>\n",
              "      <td>6910</td>\n",
              "      <td>23.344595</td>\n",
              "      <td>0</td>\n",
              "    </tr>\n",
              "    <tr>\n",
              "      <th>2</th>\n",
              "      <td>3</td>\n",
              "      <td>4</td>\n",
              "      <td>0.000000</td>\n",
              "      <td>36039.74</td>\n",
              "      <td>287</td>\n",
              "      <td>7163</td>\n",
              "      <td>24.958188</td>\n",
              "      <td>0</td>\n",
              "    </tr>\n",
              "    <tr>\n",
              "      <th>3</th>\n",
              "      <td>1</td>\n",
              "      <td>4</td>\n",
              "      <td>0.082747</td>\n",
              "      <td>271186.90</td>\n",
              "      <td>289</td>\n",
              "      <td>44318</td>\n",
              "      <td>153.349481</td>\n",
              "      <td>1</td>\n",
              "    </tr>\n",
              "    <tr>\n",
              "      <th>4</th>\n",
              "      <td>7</td>\n",
              "      <td>4</td>\n",
              "      <td>0.083800</td>\n",
              "      <td>253436.72</td>\n",
              "      <td>299</td>\n",
              "      <td>46184</td>\n",
              "      <td>154.461538</td>\n",
              "      <td>1</td>\n",
              "    </tr>\n",
              "  </tbody>\n",
              "</table>\n",
              "</div>"
            ],
            "text/plain": [
              "   recency  variety_categories  avg_discount   monetary  frequency  total_qty  \\\n",
              "0        1                   4      0.000000   38904.13        305       7508   \n",
              "1        2                   4      0.000000   40288.83        296       6910   \n",
              "2        3                   4      0.000000   36039.74        287       7163   \n",
              "3        1                   4      0.082747  271186.90        289      44318   \n",
              "4        7                   4      0.083800  253436.72        299      46184   \n",
              "\n",
              "      avg_qty  cluster  \n",
              "0   24.616393        0  \n",
              "1   23.344595        0  \n",
              "2   24.958188        0  \n",
              "3  153.349481        1  \n",
              "4  154.461538        1  "
            ]
          },
          "execution_count": 22,
          "metadata": {},
          "output_type": "execute_result"
        }
      ],
      "source": [
        "# Baca file CSV dari URL\n",
        "data = pd.read_csv('Dataset_inisiasi.csv')\n",
        "\n",
        "# Tampilkan DataFrame untuk memastikan telah dibaca dengan benar\n",
        "data.head()"
      ]
    },
    {
      "cell_type": "code",
      "execution_count": 23,
      "metadata": {},
      "outputs": [
        {
          "data": {
            "text/plain": [
              "(10000, 8)"
            ]
          },
          "execution_count": 23,
          "metadata": {},
          "output_type": "execute_result"
        }
      ],
      "source": [
        "data.shape"
      ]
    },
    {
      "cell_type": "markdown",
      "metadata": {
        "id": "KkPem5eWL2UP"
      },
      "source": [
        "# **3. Data Splitting**"
      ]
    },
    {
      "cell_type": "markdown",
      "metadata": {
        "id": "YYj1rl_JNI9Y"
      },
      "source": [
        "Tahap Data Splitting bertujuan untuk memisahkan dataset menjadi dua bagian: data latih (training set) dan data uji (test set)."
      ]
    },
    {
      "cell_type": "code",
      "execution_count": 24,
      "metadata": {
        "id": "OubAW-7ONKVj"
      },
      "outputs": [
        {
          "name": "stdout",
          "output_type": "stream",
          "text": [
            "Training set shape: X_train=(8000, 7), y_train=(8000,)\n",
            "Test set shape: X_test=(2000, 7), y_test=(2000,)\n"
          ]
        }
      ],
      "source": [
        "# Buat instance MinMaxScaler\n",
        "scaler = MinMaxScaler()\n",
        " \n",
        "# Normalisasi semua kolom numerik\n",
        "numeric_columns = data.select_dtypes(include=['int64', 'float64']).columns\n",
        "data[numeric_columns] = scaler.fit_transform(data[numeric_columns])\n",
        " \n",
        "# Pisahkan fitur (X) dan target (y)\n",
        "X = data.drop(columns=['cluster'])\n",
        "y = data['cluster']\n",
        " \n",
        "# Split data menjadi set pelatihan dan set uji\n",
        "X_train, X_test, y_train, y_test = train_test_split(X, y, test_size=0.2, random_state=42)\n",
        " \n",
        "# Tampilkan bentuk set pelatihan dan set uji untuk memastikan split\n",
        "print(f\"Training set shape: X_train={X_train.shape}, y_train={y_train.shape}\")\n",
        "print(f\"Test set shape: X_test={X_test.shape}, y_test={y_test.shape}\")"
      ]
    },
    {
      "cell_type": "markdown",
      "metadata": {
        "id": "IVPbB03CMhTT"
      },
      "source": [
        "# **4. Membangun Model Klasifikasi**\n"
      ]
    },
    {
      "cell_type": "markdown",
      "metadata": {
        "id": "Ned1pL9zMmBK"
      },
      "source": [
        "## **a. Membangun Model Klasifikasi**"
      ]
    },
    {
      "cell_type": "code",
      "execution_count": 25,
      "metadata": {
        "id": "4JYxBe87NLDk"
      },
      "outputs": [
        {
          "name": "stdout",
          "output_type": "stream",
          "text": [
            "Model training selesai.\n"
          ]
        }
      ],
      "source": [
        "knn = KNeighborsClassifier().fit(X_train, y_train)\n",
        "logreg = LogisticRegression(max_iter=1000).fit(X_train, y_train)\n",
        "dt = DecisionTreeClassifier().fit(X_train, y_train)\n",
        "rf = RandomForestClassifier().fit(X_train, y_train)\n",
        "svm = SVC().fit(X_train, y_train)\n",
        "nb = GaussianNB().fit(X_train, y_train)\n",
        " \n",
        "print(\"Model training selesai.\")"
      ]
    },
    {
      "cell_type": "markdown",
      "metadata": {
        "id": "seYoHNY3XU1y"
      },
      "source": [
        "#### **K-Nearest Neighbors (KNN)**\n",
        "KNN mengklasifikasikan data berdasarkan kedekatannya dengan data lain yang sudah terklasifikasi. Data baru diberi label berdasarkan mayoritas label dari k tetangga terdekat.\n",
        "- Keunggulan: Mudah dipahami dan digunakan.\n",
        "- Kekurangan: Lambat pada dataset besar dan memerlukan banyak memori.\n",
        "\n",
        "#### **Logistic Regression**\n",
        "Model linier untuk klasifikasi biner, menghasilkan probabilitas untuk setiap kelas dengan menggunakan fungsi logit.\n",
        "- Keunggulan: Sederhana dan efisien untuk masalah klasifikasi biner.\n",
        "- Kekurangan: Tidak efektif untuk hubungan non-linear.\n",
        "\n",
        "#### **Decision Tree (DT)**\n",
        "Decision Tree membagi data menjadi subgrup yang lebih kecil berdasarkan fitur untuk klasifikasi, membentuk struktur seperti pohon keputusan.\n",
        "- Keunggulan: Mudah dipahami dan cepat untuk dilatih.\n",
        "- Kekurangan: Rentan terhadap overfitting.\n",
        "\n",
        "#### **Random Forest (RF)**\n",
        "Ensemble dari banyak pohon keputusan yang membentuk keputusan kolektif untuk mengurangi overfitting dan meningkatkan akurasi.\n",
        "- Keunggulan: Robust dan efektif pada data besar.\n",
        "- Kekurangan: Modelnya sulit untuk diinterpretasikan dan lebih lambat pada prediksi.\n",
        "\n",
        "#### **Support Vector Machine (SVM)**\n",
        "SVM mencari hyperplane terbaik untuk memisahkan data ke dalam dua kelas, efektif untuk data dengan dimensi tinggi.\n",
        "- Keunggulan: Baik untuk data kompleks dan non-linear.\n",
        "- Kekurangan: Proses pelatihan bisa memakan waktu dan tidak efisien pada data besar.\n",
        "\n",
        "#### **Naive Bayes (NB)**\n",
        "Model probabilistik yang mengklasifikasikan berdasarkan Teorema Bayes dengan asumsi fitur-fitur bersifat independen.\n",
        "- Keunggulan: Cepat dan efisien untuk data besar.\n",
        "- Kekurangan: Asumsi independensi antar fitur tidak selalu akurat."
      ]
    },
    {
      "cell_type": "markdown",
      "metadata": {
        "id": "ergzChZFEL-O"
      },
      "source": [
        "## **b. Evaluasi Model Klasifikasi**"
      ]
    },
    {
      "cell_type": "code",
      "execution_count": 26,
      "metadata": {
        "id": "tMq4QAssNLip"
      },
      "outputs": [
        {
          "name": "stderr",
          "output_type": "stream",
          "text": [
            "C:\\Users\\Jihan Aurelia\\AppData\\Local\\Temp\\ipykernel_23728\\1521135127.py:58: FutureWarning: DataFrame.applymap has been deprecated. Use DataFrame.map instead.\n",
            "  summary_df[['Accuracy', 'Precision', 'Recall', 'F1-Score']] = summary_df[['Accuracy', 'Precision', 'Recall', 'F1-Score']].applymap(lambda x: f\"{x:.4f}\")\n"
          ]
        },
        {
          "data": {
            "text/html": [
              "<div>\n",
              "<style scoped>\n",
              "    .dataframe tbody tr th:only-of-type {\n",
              "        vertical-align: middle;\n",
              "    }\n",
              "\n",
              "    .dataframe tbody tr th {\n",
              "        vertical-align: top;\n",
              "    }\n",
              "\n",
              "    .dataframe thead th {\n",
              "        text-align: right;\n",
              "    }\n",
              "</style>\n",
              "<table border=\"1\" class=\"dataframe\">\n",
              "  <thead>\n",
              "    <tr style=\"text-align: right;\">\n",
              "      <th></th>\n",
              "      <th>Model</th>\n",
              "      <th>Accuracy</th>\n",
              "      <th>Precision</th>\n",
              "      <th>Recall</th>\n",
              "      <th>F1-Score</th>\n",
              "      <th>Evaluation Time (s)</th>\n",
              "    </tr>\n",
              "  </thead>\n",
              "  <tbody>\n",
              "    <tr>\n",
              "      <th>0</th>\n",
              "      <td>K-Nearest Neighbors (KNN)</td>\n",
              "      <td>1.0000</td>\n",
              "      <td>1.0000</td>\n",
              "      <td>1.0000</td>\n",
              "      <td>1.0000</td>\n",
              "      <td>0.088576</td>\n",
              "    </tr>\n",
              "    <tr>\n",
              "      <th>1</th>\n",
              "      <td>Decision Tree (DT)</td>\n",
              "      <td>1.0000</td>\n",
              "      <td>1.0000</td>\n",
              "      <td>1.0000</td>\n",
              "      <td>1.0000</td>\n",
              "      <td>0.003000</td>\n",
              "    </tr>\n",
              "    <tr>\n",
              "      <th>2</th>\n",
              "      <td>Random Forest (RF)</td>\n",
              "      <td>1.0000</td>\n",
              "      <td>1.0000</td>\n",
              "      <td>1.0000</td>\n",
              "      <td>1.0000</td>\n",
              "      <td>0.010358</td>\n",
              "    </tr>\n",
              "    <tr>\n",
              "      <th>3</th>\n",
              "      <td>Support Vector Machine (SVM)</td>\n",
              "      <td>1.0000</td>\n",
              "      <td>1.0000</td>\n",
              "      <td>1.0000</td>\n",
              "      <td>1.0000</td>\n",
              "      <td>0.003723</td>\n",
              "    </tr>\n",
              "    <tr>\n",
              "      <th>4</th>\n",
              "      <td>Naive Bayes (NB)</td>\n",
              "      <td>1.0000</td>\n",
              "      <td>1.0000</td>\n",
              "      <td>1.0000</td>\n",
              "      <td>1.0000</td>\n",
              "      <td>0.003643</td>\n",
              "    </tr>\n",
              "    <tr>\n",
              "      <th>5</th>\n",
              "      <td>Logistic Regression (LogReg)</td>\n",
              "      <td>1.0000</td>\n",
              "      <td>1.0000</td>\n",
              "      <td>1.0000</td>\n",
              "      <td>1.0000</td>\n",
              "      <td>0.001046</td>\n",
              "    </tr>\n",
              "  </tbody>\n",
              "</table>\n",
              "</div>"
            ],
            "text/plain": [
              "                          Model Accuracy Precision  Recall F1-Score  \\\n",
              "0     K-Nearest Neighbors (KNN)   1.0000    1.0000  1.0000   1.0000   \n",
              "1            Decision Tree (DT)   1.0000    1.0000  1.0000   1.0000   \n",
              "2            Random Forest (RF)   1.0000    1.0000  1.0000   1.0000   \n",
              "3  Support Vector Machine (SVM)   1.0000    1.0000  1.0000   1.0000   \n",
              "4              Naive Bayes (NB)   1.0000    1.0000  1.0000   1.0000   \n",
              "5  Logistic Regression (LogReg)   1.0000    1.0000  1.0000   1.0000   \n",
              "\n",
              "   Evaluation Time (s)  \n",
              "0             0.088576  \n",
              "1             0.003000  \n",
              "2             0.010358  \n",
              "3             0.003723  \n",
              "4             0.003643  \n",
              "5             0.001046  "
            ]
          },
          "execution_count": 26,
          "metadata": {},
          "output_type": "execute_result"
        }
      ],
      "source": [
        "# Fungsi untuk mengevaluasi dan mengembalikan hasil serta waktu evaluasi\n",
        "def evaluate_model_with_time(model, X_test, y_test, model_name):\n",
        "    start_time = time.time()  # Mulai waktu\n",
        "    y_pred = model.predict(X_test)\n",
        "    \n",
        "    # Hitung confusion matrix\n",
        "    cm = confusion_matrix(y_test, y_pred)\n",
        "    \n",
        "    # Hitung waktu eksekusi\n",
        "    end_time = time.time()\n",
        "    elapsed_time = end_time - start_time  # Waktu yang dibutuhkan\n",
        "    \n",
        "    # Kembalikan hasil evaluasi\n",
        "    tn, fp, fn, tp = cm.ravel()\n",
        "    results = {\n",
        "        'Confusion Matrix': cm,\n",
        "        'True Positive (TP)': tp,\n",
        "        'False Positive (FP)': fp,\n",
        "        'False Negative (FN)': fn,\n",
        "        'True Negative (TN)': tn,\n",
        "        'Accuracy': accuracy_score(y_test, y_pred),\n",
        "        'Precision': precision_score(y_test, y_pred),\n",
        "        'Recall': recall_score(y_test, y_pred),\n",
        "        'F1-Score': f1_score(y_test, y_pred),\n",
        "        'Evaluation Time (s)': elapsed_time  # Waktu evaluasi dalam detik\n",
        "    }\n",
        "    return results\n",
        "\n",
        "# Mengevaluasi setiap model dan mengumpulkan hasilnya termasuk waktu evaluasi\n",
        "results = {\n",
        "    'K-Nearest Neighbors (KNN)': evaluate_model_with_time(knn, X_test, y_test, 'KNN'),\n",
        "    'Decision Tree (DT)': evaluate_model_with_time(dt, X_test, y_test, 'DT'),\n",
        "    'Random Forest (RF)': evaluate_model_with_time(rf, X_test, y_test, 'RF'),\n",
        "    'Support Vector Machine (SVM)': evaluate_model_with_time(svm, X_test, y_test, 'SVM'),\n",
        "    'Naive Bayes (NB)': evaluate_model_with_time(nb, X_test, y_test, 'NB'),\n",
        "    'Logistic Regression (LogReg)': evaluate_model_with_time(logreg, X_test, y_test, 'Logistic Regression')\n",
        "}\n",
        "\n",
        "# Buat DataFrame untuk meringkas hasil\n",
        "summary_df = pd.DataFrame(columns=['Model', 'Accuracy', 'Precision', 'Recall', 'F1-Score', 'Evaluation Time (s)'])\n",
        "\n",
        "# Isi DataFrame dengan hasil\n",
        "rows = []\n",
        "for model_name, metrics in results.items():\n",
        "    rows.append({\n",
        "        'Model': model_name,\n",
        "        'Accuracy': metrics['Accuracy'],\n",
        "        'Precision': metrics['Precision'],\n",
        "        'Recall': metrics['Recall'],\n",
        "        'F1-Score': metrics['F1-Score'],\n",
        "        'Evaluation Time (s)': metrics['Evaluation Time (s)']\n",
        "    })\n",
        "\n",
        "# Konversi daftar kamus ke DataFrame\n",
        "summary_df = pd.DataFrame(rows)\n",
        "\n",
        "# Menampilkan hasil dengan format .4f (empat angka desimal)\n",
        "summary_df[['Accuracy', 'Precision', 'Recall', 'F1-Score']] = summary_df[['Accuracy', 'Precision', 'Recall', 'F1-Score']].applymap(lambda x: f\"{x:.4f}\")\n",
        "\n",
        "# Tampilkan DataFrame\n",
        "summary_df\n"
      ]
    },
    {
      "cell_type": "code",
      "execution_count": 27,
      "metadata": {},
      "outputs": [
        {
          "data": {
            "image/png": "[encoded data removed]",
            "text/plain": [
              "<Figure size 600x400 with 2 Axes>"
            ]
          },
          "metadata": {},
          "output_type": "display_data"
        },
        {
          "data": {
            "image/png": "[encoded data removed]",
            "text/plain": [
              "<Figure size 600x400 with 2 Axes>"
            ]
          },
          "metadata": {},
          "output_type": "display_data"
        },
        {
          "data": {
            "image/png": "[encoded data removed]",
            "text/plain": [
              "<Figure size 600x400 with 2 Axes>"
            ]
          },
          "metadata": {},
          "output_type": "display_data"
        },
        {
          "data": {
            "image/png": "[encoded data removed]",
            "text/plain": [
              "<Figure size 600x400 with 2 Axes>"
            ]
          },
          "metadata": {},
          "output_type": "display_data"
        },
        {
          "data": {
            "image/png": "[encoded data removed]",
            "text/plain": [
              "<Figure size 600x400 with 2 Axes>"
            ]
          },
          "metadata": {},
          "output_type": "display_data"
        },
        {
          "data": {
            "image/png": "[encoded data removed]",
            "text/plain": [
              "<Figure size 600x400 with 2 Axes>"
            ]
          },
          "metadata": {},
          "output_type": "display_data"
        }
      ],
      "source": [
        "# Fungsi untuk mengevaluasi dan mengembalikan hasil sebagai kamus dan menampilkan confusion matrix\n",
        "def evaluate_model(model, X_test, y_test, model_name):\n",
        "    y_pred = model.predict(X_test)\n",
        "    \n",
        "    # Hitung confusion matrix\n",
        "    cm = confusion_matrix(y_test, y_pred)\n",
        "    \n",
        "    # Tampilkan confusion matrix dengan heatmap\n",
        "    plt.figure(figsize=(6, 4))\n",
        "    sns.heatmap(cm, annot=True, fmt=\"d\", cmap=\"Blues\", xticklabels=[\"0\", \"1\"], yticklabels=[\"0\", \"1\"])\n",
        "    plt.title(f\"{model_name} Confusion Matrix\")\n",
        "    plt.xlabel(\"Predicted\")\n",
        "    plt.ylabel(\"Actual\")\n",
        "    plt.show()\n",
        "\n",
        "# Mengevaluasi setiap model dan mengumpulkan hasilnya\n",
        "results = {\n",
        "    'K-Nearest Neighbors (KNN)': evaluate_model(knn, X_test, y_test, 'KNN'),\n",
        "    'Logistic Regression (LR)': evaluate_model(logreg, X_test, y_test, 'LR'),\n",
        "    'Decision Tree (DT)': evaluate_model(dt, X_test, y_test, 'DT'),\n",
        "    'Random Forest (RF)': evaluate_model(rf, X_test, y_test, 'RF'),\n",
        "    'Support Vector Machine (SVM)': evaluate_model(svm, X_test, y_test, 'SVM'),\n",
        "    'Naive Bayes (NB)': evaluate_model(nb, X_test, y_test, 'NB')\n",
        "}\n"
      ]
    },
    {
      "cell_type": "code",
      "execution_count": 28,
      "metadata": {},
      "outputs": [
        {
          "name": "stdout",
          "output_type": "stream",
          "text": [
            "K-Nearest Neighbors (KNN) - Mean Accuracy: 1.0000 - Std Dev: 0.0000\n",
            "Decision Tree (DT) - Mean Accuracy: 1.0000 - Std Dev: 0.0000\n",
            "Random Forest (RF) - Mean Accuracy: 1.0000 - Std Dev: 0.0000\n",
            "Support Vector Machine (SVM) - Mean Accuracy: 1.0000 - Std Dev: 0.0000\n",
            "Naive Bayes (NB) - Mean Accuracy: 1.0000 - Std Dev: 0.0000\n",
            "Logistic Regression (LogReg) - Mean Accuracy: 1.0000 - Std Dev: 0.0000\n",
            "\n",
            "Ringkasan Hasil Cross-Validation:\n"
          ]
        },
        {
          "data": {
            "text/html": [
              "<div>\n",
              "<style scoped>\n",
              "    .dataframe tbody tr th:only-of-type {\n",
              "        vertical-align: middle;\n",
              "    }\n",
              "\n",
              "    .dataframe tbody tr th {\n",
              "        vertical-align: top;\n",
              "    }\n",
              "\n",
              "    .dataframe thead th {\n",
              "        text-align: right;\n",
              "    }\n",
              "</style>\n",
              "<table border=\"1\" class=\"dataframe\">\n",
              "  <thead>\n",
              "    <tr style=\"text-align: right;\">\n",
              "      <th></th>\n",
              "      <th>K-Nearest Neighbors (KNN)</th>\n",
              "      <th>Decision Tree (DT)</th>\n",
              "      <th>Random Forest (RF)</th>\n",
              "      <th>Support Vector Machine (SVM)</th>\n",
              "      <th>Naive Bayes (NB)</th>\n",
              "      <th>Logistic Regression (LogReg)</th>\n",
              "    </tr>\n",
              "  </thead>\n",
              "  <tbody>\n",
              "    <tr>\n",
              "      <th>0</th>\n",
              "      <td>1.0</td>\n",
              "      <td>1.0</td>\n",
              "      <td>1.0</td>\n",
              "      <td>1.0</td>\n",
              "      <td>1.0</td>\n",
              "      <td>1.0</td>\n",
              "    </tr>\n",
              "    <tr>\n",
              "      <th>1</th>\n",
              "      <td>1.0</td>\n",
              "      <td>1.0</td>\n",
              "      <td>1.0</td>\n",
              "      <td>1.0</td>\n",
              "      <td>1.0</td>\n",
              "      <td>1.0</td>\n",
              "    </tr>\n",
              "    <tr>\n",
              "      <th>2</th>\n",
              "      <td>1.0</td>\n",
              "      <td>1.0</td>\n",
              "      <td>1.0</td>\n",
              "      <td>1.0</td>\n",
              "      <td>1.0</td>\n",
              "      <td>1.0</td>\n",
              "    </tr>\n",
              "    <tr>\n",
              "      <th>3</th>\n",
              "      <td>1.0</td>\n",
              "      <td>1.0</td>\n",
              "      <td>1.0</td>\n",
              "      <td>1.0</td>\n",
              "      <td>1.0</td>\n",
              "      <td>1.0</td>\n",
              "    </tr>\n",
              "    <tr>\n",
              "      <th>4</th>\n",
              "      <td>1.0</td>\n",
              "      <td>1.0</td>\n",
              "      <td>1.0</td>\n",
              "      <td>1.0</td>\n",
              "      <td>1.0</td>\n",
              "      <td>1.0</td>\n",
              "    </tr>\n",
              "  </tbody>\n",
              "</table>\n",
              "</div>"
            ],
            "text/plain": [
              "   K-Nearest Neighbors (KNN)  Decision Tree (DT)  Random Forest (RF)  \\\n",
              "0                        1.0                 1.0                 1.0   \n",
              "1                        1.0                 1.0                 1.0   \n",
              "2                        1.0                 1.0                 1.0   \n",
              "3                        1.0                 1.0                 1.0   \n",
              "4                        1.0                 1.0                 1.0   \n",
              "\n",
              "   Support Vector Machine (SVM)  Naive Bayes (NB)  \\\n",
              "0                           1.0               1.0   \n",
              "1                           1.0               1.0   \n",
              "2                           1.0               1.0   \n",
              "3                           1.0               1.0   \n",
              "4                           1.0               1.0   \n",
              "\n",
              "   Logistic Regression (LogReg)  \n",
              "0                           1.0  \n",
              "1                           1.0  \n",
              "2                           1.0  \n",
              "3                           1.0  \n",
              "4                           1.0  "
            ]
          },
          "execution_count": 28,
          "metadata": {},
          "output_type": "execute_result"
        }
      ],
      "source": [
        "# Daftar model yang ingin diuji\n",
        "models = {\n",
        "    'K-Nearest Neighbors (KNN)': KNeighborsClassifier(),\n",
        "    'Decision Tree (DT)': DecisionTreeClassifier(),\n",
        "    'Random Forest (RF)': RandomForestClassifier(),\n",
        "    'Support Vector Machine (SVM)': SVC(),\n",
        "    'Naive Bayes (NB)': GaussianNB(),\n",
        "    'Logistic Regression (LogReg)': LogisticRegression(max_iter=1000)\n",
        "}\n",
        "\n",
        "# Tentukan jumlah fold untuk cross-validation (misalnya 5-fold cross-validation)\n",
        "kfold = StratifiedKFold(n_splits=5, shuffle=True, random_state=42)\n",
        "\n",
        "# Hasil cross-validation untuk setiap model\n",
        "cv_results = {}\n",
        "\n",
        "# Melakukan cross-validation untuk setiap model\n",
        "for model_name, model in models.items():\n",
        "    # Cross-validation menggunakan 5-fold\n",
        "    results = cross_val_score(model, X_train, y_train, cv=kfold, scoring='accuracy')\n",
        "    cv_results[model_name] = results\n",
        "    print(f\"{model_name} - Mean Accuracy: {results.mean():.4f} - Std Dev: {results.std():.4f}\")\n",
        "\n",
        "# Buat DataFrame untuk menampilkan hasil cross-validation\n",
        "cv_summary_df = pd.DataFrame(cv_results)\n",
        "\n",
        "# Tampilkan DataFrame hasil cross-validation\n",
        "print(\"\\nRingkasan Hasil Cross-Validation:\")\n",
        "cv_summary_df\n"
      ]
    },
    {
      "cell_type": "markdown",
      "metadata": {},
      "source": [
        "### **Perbandingan Hasil Evaluasi**\n",
        "\n",
        "- Accuracy, Precision, Recall, F1-Score: Semua model menunjukkan performa sempurna dengan skor 1.0000 untuk semua metrik, yang berarti model tersebut dapat mengklasifikasikan data dengan sangat baik.\n",
        "- Evaluation Time:\n",
        "    - Decision Tree (DT), Naive Bayes (NB), dan Logistic Regression (LogReg) memiliki waktu evaluasi yang sangat cepat (0.000000 detik), menandakan bahwa proses prediksi dan evaluasi sangat efisien.\n",
        "    - K-Nearest Neighbors (KNN), meskipun memiliki performa sempurna, membutuhkan sedikit lebih banyak waktu (0.094442 detik) dibandingkan model lainnya.\n",
        "    - Random Forest (RF) dan Support Vector Machine (SVM) sedikit lebih lambat, namun tetap memberikan hasil yang sangat baik."
      ]
    },
    {
      "cell_type": "markdown",
      "metadata": {},
      "source": [
        "### **Model Terbaik: Decision Tree (DT)**\n",
        "Alasan Pemilihan:\n",
        "- Kecepatan Evaluasi: Decision Tree memiliki waktu evaluasi tercepat (0.000000 detik), yang sangat efisien.\n",
        "- Perfoma: Meskipun semua model memiliki 1.0000 di semua metrik, Decision Tree memberikan performa yang sangat cepat dan baik, menjadikannya pilihan yang optimal jika efisiensi waktu menjadi faktor penting."
      ]
    },
    {
      "cell_type": "markdown",
      "metadata": {
        "id": "ph9yIYDXEPuB"
      },
      "source": [
        "## **c. Tuning Model Klasifikasi (Optional)**"
      ]
    },
    {
      "cell_type": "markdown",
      "metadata": {
        "id": "-Bikx3LINv5e"
      },
      "source": [
        "Tidak dilakukan, model sudah bagus"
      ]
    },
    {
      "cell_type": "markdown",
      "metadata": {
        "id": "hE7pqlEPEYzI"
      },
      "source": [
        "## **d. Evaluasi Model Klasifikasi setelah Tuning (Optional)**"
      ]
    },
    {
      "cell_type": "markdown",
      "metadata": {
        "id": "feaPESoeN0zz"
      },
      "source": [
        "Tidak dilakukan, model sudah bagus"
      ]
    },
    {
      "cell_type": "markdown",
      "metadata": {
        "id": "ZRsOdm4uEgAW"
      },
      "source": [
        "## **e. Analisis Hasil Evaluasi Model Klasifikasi**"
      ]
    },
    {
      "cell_type": "markdown",
      "metadata": {
        "id": "Hm3BhSi6N4_l"
      },
      "source": [
        "### **Identifikasi Kelemahan Model**\n",
        "Berdasarkan hasil evaluasi yang menunjukkan accuracy, precision, recall, dan F1-Score yang sempurna (1.0000) untuk semua model, kita perlu berhati-hati dalam menarik kesimpulan, karena hasil yang sangat baik dapat disebabkan oleh beberapa faktor, termasuk overfitting atau data yang terlalu mudah. Berikut adalah beberapa potensi kelemahan yang perlu diperhatikan:\n",
        "\n",
        "1. Precision atau Recall Rendah untuk Kelas Tertentu. Precision dan Recall yang sangat tinggi pada semua model menunjukkan bahwa tidak ada kesalahan klasifikasi pada data uji. Namun, ini bisa menjadi indikasi dari overfitting jika data latih tidak cukup beragam atau terlalu sederhana.\n",
        "2. Overfitting atau Underfitting. Overfitting: Dengan accuracy, precision, recall, dan F1-Score yang sempurna pada data uji, model mungkin terlalu sesuai dengan data latih dan kurang mampu menggeneralisasi ke data baru.\n",
        "\n",
        "### **Rekomendasi Tindakan Lanjutan**\n",
        "1. Periksa Generalisasi dengan Data Baru. Melakukan cross-validation atau gunakan data uji yang lebih besar dan lebih beragam untuk memastikan bahwa model tidak mengalami overfitting.\n",
        "2. Kumpulkan Data Tambahan. Data lebih banyak dengan variasi yang lebih besar bisa membantu model agar lebih robust dan menghindari overfitting. Perhatikan variasi dalam fitur dan pastikan data uji mencakup berbagai skenario yang mungkin dihadapi oleh model di dunia nyata.\n",
        "3. Regularisasi. Untuk model seperti Decision Tree, kita bisa mencoba teknik pruning untuk menghindari pohon yang terlalu dalam yang dapat menyebabkan overfitting."
      ]
    }
  ],
  "metadata": {
    "colab": {
      "provenance": []
    },
    "kernelspec": {
      "display_name": "Python 3",
      "name": "python3"
    },
    "language_info": {
      "codemirror_mode": {
        "name": "ipython",
        "version": 3
      },
      "file_extension": ".py",
      "mimetype": "text/x-python",
      "name": "python",
      "nbconvert_exporter": "python",
      "pygments_lexer": "ipython3",
      "version": "3.10.6"
    }
  },
  "nbformat": 4,
  "nbformat_minor": 0
}
